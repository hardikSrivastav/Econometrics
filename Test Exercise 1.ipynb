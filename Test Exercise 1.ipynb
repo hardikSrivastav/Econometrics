{
 "cells": [
  {
   "cell_type": "code",
   "execution_count": 1,
   "metadata": {},
   "outputs": [],
   "source": [
    "import numpy as np\n",
    "import pandas as pd\n",
    "import matplotlib.pyplot as plt\n",
    "import sklearn as sc"
   ]
  },
  {
   "cell_type": "code",
   "execution_count": 2,
   "metadata": {},
   "outputs": [],
   "source": [
    "data = pd.read_excel('Test Exer 1 Data.xls')\n",
    "data = data.drop('Observation', axis = 1)"
   ]
  },
  {
   "cell_type": "code",
   "execution_count": 3,
   "metadata": {},
   "outputs": [],
   "source": [
    "X = data['Age'] #Assigning X\n",
    "y = data['Expenditures'] #Assigning y"
   ]
  },
  {
   "cell_type": "markdown",
   "metadata": {},
   "source": [
    "# *a)* Finding the coefficients *a* and *b*"
   ]
  },
  {
   "cell_type": "markdown",
   "metadata": {},
   "source": [
    "### Here, 'intercept' is *b* while the 'X' is *a*"
   ]
  },
  {
   "cell_type": "code",
   "execution_count": 4,
   "metadata": {
    "scrolled": true
   },
   "outputs": [
    {
     "name": "stdout",
     "output_type": "stream",
     "text": [
      "                            OLS Regression Results                            \n",
      "==============================================================================\n",
      "Dep. Variable:                      y   R-squared:                       0.338\n",
      "Model:                            OLS   Adj. R-squared:                  0.310\n",
      "Method:                 Least Squares   F-statistic:                     12.24\n",
      "Date:                Sun, 17 Oct 2021   Prob (F-statistic):            0.00185\n",
      "Time:                        19:07:52   Log-Likelihood:                -78.076\n",
      "No. Observations:                  26   AIC:                             160.2\n",
      "Df Residuals:                      24   BIC:                             162.7\n",
      "Df Model:                           1                                         \n",
      "Covariance Type:            nonrobust                                         \n",
      "==============================================================================\n",
      "                 coef    std err          t      P>|t|      [0.025      0.975]\n",
      "------------------------------------------------------------------------------\n",
      "Intercept    114.2411      3.882     29.428      0.000     106.229     122.253\n",
      "X             -0.3336      0.095     -3.498      0.002      -0.530      -0.137\n",
      "==============================================================================\n",
      "Omnibus:                        5.126   Durbin-Watson:                   1.955\n",
      "Prob(Omnibus):                  0.077   Jarque-Bera (JB):                1.689\n",
      "Skew:                          -0.021   Prob(JB):                        0.430\n",
      "Kurtosis:                       1.752   Cond. No.                         159.\n",
      "==============================================================================\n",
      "\n",
      "Warnings:\n",
      "[1] Standard Errors assume that the covariance matrix of the errors is correctly specified.\n"
     ]
    }
   ],
   "source": [
    "import statsmodels.formula.api as smf #Importing library\n",
    "mod = smf.ols('y ~ X', data=data) #Establishing data for Regression Results\n",
    "res = mod.fit() #Fitting Data\n",
    "print(res.summary()) #Printing results table"
   ]
  },
  {
   "cell_type": "markdown",
   "metadata": {},
   "source": [
    "## Alternate method"
   ]
  },
  {
   "cell_type": "code",
   "execution_count": 5,
   "metadata": {},
   "outputs": [
    {
     "name": "stdout",
     "output_type": "stream",
     "text": [
      "-0.33359609660627654 114.2411079549316\n"
     ]
    }
   ],
   "source": [
    "a, b = np.polyfit(X, y, 1) #Assigning a and b\n",
    "print(a, b) #The values are same as obtained by the previous method"
   ]
  },
  {
   "cell_type": "markdown",
   "metadata": {},
   "source": [
    "# *b)* Graphical interpretation(s)"
   ]
  },
  {
   "cell_type": "markdown",
   "metadata": {},
   "source": [
    "## Scatter plot"
   ]
  },
  {
   "cell_type": "code",
   "execution_count": 6,
   "metadata": {
    "scrolled": true
   },
   "outputs": [
    {
     "data": {
      "image/png": "[encoded data removed]",
      "text/plain": [
       "<Figure size 432x288 with 1 Axes>"
      ]
     },
     "metadata": {
      "needs_background": "light"
     },
     "output_type": "display_data"
    }
   ],
   "source": [
    "plt.scatter(X, y) #Scattering data\n",
    "plt.xlabel('Age') #Setting the label for the x-axis\n",
    "plt.ylabel('Expenditure') #Setting the label for the y-axis\n",
    "plt.show()"
   ]
  },
  {
   "cell_type": "markdown",
   "metadata": {},
   "source": [
    "## Scatter plot and Regression line"
   ]
  },
  {
   "cell_type": "code",
   "execution_count": 7,
   "metadata": {},
   "outputs": [
    {
     "data": {
      "image/png": "[encoded data removed]",
      "text/plain": [
       "<Figure size 432x288 with 1 Axes>"
      ]
     },
     "metadata": {
      "needs_background": "light"
     },
     "output_type": "display_data"
    }
   ],
   "source": [
    "plt.scatter(X, y) #Scattering the data\n",
    "plt.plot(X, a*X + b, c = 'green') #Plotting the regression line\n",
    "plt.xlabel('Age') #Setting the label for the x-axis\n",
    "plt.ylabel('Expenditure') #Setting the label for the y-axis\n",
    "plt.show()"
   ]
  },
  {
   "cell_type": "markdown",
   "metadata": {},
   "source": [
    "We can, at first glance, clearly see that there seem to be two different clusters of data points in the data: one roughly before *X=40* and the other when *X>40*. We can also see that even though the regression line passes roughly through the center of the observations, the distance between the line and the observations is significant, indicating that the data is not well-predicted through linear regression. We also notice that since the line is pointing downward, and the slope negative (*a = -0.336*), the expenditure (the dependent variable on y axis) decreases as the age of customers (the independent variable on the x axis) increases."
   ]
  },
  {
   "cell_type": "markdown",
   "metadata": {},
   "source": [
    "# *c)* Division of Data into clusters"
   ]
  },
  {
   "cell_type": "markdown",
   "metadata": {},
   "source": [
    "## Division of Data"
   ]
  },
  {
   "cell_type": "code",
   "execution_count": 8,
   "metadata": {},
   "outputs": [],
   "source": [
    "# Erstwhile empty lists\n",
    "age1 = []\n",
    "expend1 = []\n",
    "age2 = []\n",
    "expend2 = []\n",
    "\n",
    "for i in range(len(data.index.values)): #Beginning of loop that extends till the number of data points in the data are extiguished\n",
    "    if data['Age'].values[i] < 40: #Conditionality statement checking whether the age of the consumer is less than 40\n",
    "        age1.append(data.iloc[i, 0]) #If age is less than 40, the age will be added to the first list\n",
    "        expend1.append(data.iloc[i, 1]) #If age is less than 40, the consumer's expenditure will be added to the second list\n",
    "    else: #Checking if the age of the consumer is > 40\n",
    "        age2.append(data.iloc[i, 0]) #If age is = or > than 40, the age will be added to the third list\n",
    "        expend2.append(data.iloc[i, 1]) #If age is = or > than 40, the consumer's expenditure will be added to the fourth list"
   ]
  },
  {
   "cell_type": "code",
   "execution_count": 9,
   "metadata": {},
   "outputs": [],
   "source": [
    "# Expressing divided data in mathematical terms and converting them to series'\n",
    "X1 = pd.Series(age1)\n",
    "y1 = pd.Series(expend1)\n",
    "X2 = pd.Series(age2)\n",
    "y2 = pd.Series(expend2)"
   ]
  },
  {
   "cell_type": "markdown",
   "metadata": {},
   "source": [
    "## Finding *a* and *b*"
   ]
  },
  {
   "cell_type": "markdown",
   "metadata": {},
   "source": [
    "### Cluster 1"
   ]
  },
  {
   "cell_type": "code",
   "execution_count": 16,
   "metadata": {},
   "outputs": [
    {
     "data": {
      "text/plain": [
       "(0.19797127877820697, 100.23227718258495)"
      ]
     },
     "execution_count": 16,
     "metadata": {},
     "output_type": "execute_result"
    }
   ],
   "source": [
    "a1, b1 = np.polyfit(X1, y1, 1) #a and b for customers below 40 years of age\n",
    "\n",
    "a1, b1"
   ]
  },
  {
   "cell_type": "markdown",
   "metadata": {},
   "source": [
    "### Cluster 2"
   ]
  },
  {
   "cell_type": "code",
   "execution_count": 17,
   "metadata": {},
   "outputs": [
    {
     "data": {
      "text/plain": [
       "(0.1464708282333743, 88.87188902488779)"
      ]
     },
     "execution_count": 17,
     "metadata": {},
     "output_type": "execute_result"
    }
   ],
   "source": [
    "a2, b2 = np.polyfit(X2, y2, 1) #a and b for customers equal and above 40 years of age\n",
    "\n",
    "a2, b2"
   ]
  },
  {
   "cell_type": "markdown",
   "metadata": {},
   "source": [
    "## Graphical Interpretations"
   ]
  },
  {
   "cell_type": "markdown",
   "metadata": {},
   "source": [
    "### Cluster 1"
   ]
  },
  {
   "cell_type": "code",
   "execution_count": 11,
   "metadata": {},
   "outputs": [
    {
     "data": {
      "image/png": "[encoded data removed]",
      "text/plain": [
       "<Figure size 432x288 with 1 Axes>"
      ]
     },
     "metadata": {
      "needs_background": "light"
     },
     "output_type": "display_data"
    }
   ],
   "source": [
    "plt.scatter(X1, y1) #Scattering data\n",
    "plt.plot(X1, a1*X1 + b1, c = 'red') #Plotting the regression line\n",
    "plt.xlabel('Age') #Setting the label for the x-axis\n",
    "plt.ylabel('Expenditure') #Setting the label for the y-axis\n",
    "plt.show()"
   ]
  },
  {
   "cell_type": "markdown",
   "metadata": {},
   "source": [
    "### Cluster 2"
   ]
  },
  {
   "cell_type": "code",
   "execution_count": 12,
   "metadata": {},
   "outputs": [
    {
     "data": {
      "image/png": "[encoded data removed]",
      "text/plain": [
       "<Figure size 432x288 with 1 Axes>"
      ]
     },
     "metadata": {
      "needs_background": "light"
     },
     "output_type": "display_data"
    }
   ],
   "source": [
    "plt.scatter(X2, y2) #Scattering data\n",
    "plt.plot(X2, a2*X2 + b2, c = 'cyan') #Plotting the regression line\n",
    "plt.xlabel('Age') #Setting the label for the x-axis\n",
    "plt.ylabel('Expenditure') #Setting the label for the y-axis\n",
    "plt.show()"
   ]
  },
  {
   "cell_type": "markdown",
   "metadata": {},
   "source": [
    "## Finding t-values and standard errors for *b*"
   ]
  },
  {
   "cell_type": "code",
   "execution_count": 13,
   "metadata": {},
   "outputs": [],
   "source": [
    "data1 = pd.merge(pd.DataFrame(X1), pd.DataFrame(y1), on = X1.index) #Making the cluster 1 data points to a single data set\n",
    "data2 = pd.merge(pd.DataFrame(X2), pd.DataFrame(y2), on = X2.index) #Making the cluster 2 data points to a single data set"
   ]
  },
  {
   "cell_type": "code",
   "execution_count": 14,
   "metadata": {},
   "outputs": [
    {
     "name": "stdout",
     "output_type": "stream",
     "text": [
      "                            OLS Regression Results                            \n",
      "==============================================================================\n",
      "Dep. Variable:                     y1   R-squared:                       0.644\n",
      "Model:                            OLS   Adj. R-squared:                  0.612\n",
      "Method:                 Least Squares   F-statistic:                     19.90\n",
      "Date:                Sun, 17 Oct 2021   Prob (F-statistic):           0.000962\n",
      "Time:                        19:07:52   Log-Likelihood:                -19.212\n",
      "No. Observations:                  13   AIC:                             42.42\n",
      "Df Residuals:                      11   BIC:                             43.55\n",
      "Df Model:                           1                                         \n",
      "Covariance Type:            nonrobust                                         \n",
      "==============================================================================\n",
      "                 coef    std err          t      P>|t|      [0.025      0.975]\n",
      "------------------------------------------------------------------------------\n",
      "Intercept    100.2323      1.416     70.791      0.000      97.116     103.349\n",
      "X1             0.1980      0.044      4.460      0.001       0.100       0.296\n",
      "==============================================================================\n",
      "Omnibus:                        0.100   Durbin-Watson:                   1.864\n",
      "Prob(Omnibus):                  0.951   Jarque-Bera (JB):                0.154\n",
      "Skew:                          -0.135   Prob(JB):                        0.926\n",
      "Kurtosis:                       2.541   Cond. No.                         141.\n",
      "==============================================================================\n",
      "\n",
      "Warnings:\n",
      "[1] Standard Errors assume that the covariance matrix of the errors is correctly specified.\n"
     ]
    },
    {
     "name": "stderr",
     "output_type": "stream",
     "text": [
      "/Users/hardiksrivastav/opt/anaconda3/lib/python3.8/site-packages/scipy/stats/stats.py:1603: UserWarning: kurtosistest only valid for n>=20 ... continuing anyway, n=13\n",
      "  warnings.warn(\"kurtosistest only valid for n>=20 ... continuing \"\n"
     ]
    }
   ],
   "source": [
    "mod = smf.ols('y1 ~ X1', data = data1) #Establishing data for Regression Results\n",
    "res = mod.fit() #Fitting the Data\n",
    "print(res.summary())"
   ]
  },
  {
   "cell_type": "markdown",
   "metadata": {},
   "source": [
    "In the case of the first cluster (age of consumers < 40), *b* (intercept) has the standard error of 1.416 and a t-value of 70.791"
   ]
  },
  {
   "cell_type": "code",
   "execution_count": 15,
   "metadata": {},
   "outputs": [
    {
     "name": "stdout",
     "output_type": "stream",
     "text": [
      "                            OLS Regression Results                            \n",
      "==============================================================================\n",
      "Dep. Variable:                     y2   R-squared:                       0.048\n",
      "Model:                            OLS   Adj. R-squared:                 -0.039\n",
      "Method:                 Least Squares   F-statistic:                    0.5507\n",
      "Date:                Sun, 17 Oct 2021   Prob (F-statistic):              0.474\n",
      "Time:                        19:07:52   Log-Likelihood:                -34.827\n",
      "No. Observations:                  13   AIC:                             73.65\n",
      "Df Residuals:                      11   BIC:                             74.78\n",
      "Df Model:                           1                                         \n",
      "Covariance Type:            nonrobust                                         \n",
      "==============================================================================\n",
      "                 coef    std err          t      P>|t|      [0.025      0.975]\n",
      "------------------------------------------------------------------------------\n",
      "Intercept     88.8719      9.458      9.396      0.000      68.054     109.690\n",
      "X2             0.1465      0.197      0.742      0.474      -0.288       0.581\n",
      "==============================================================================\n",
      "Omnibus:                        1.384   Durbin-Watson:                   2.745\n",
      "Prob(Omnibus):                  0.501   Jarque-Bera (JB):                0.534\n",
      "Skew:                          -0.496   Prob(JB):                        0.766\n",
      "Kurtosis:                       2.957   Cond. No.                         427.\n",
      "==============================================================================\n",
      "\n",
      "Warnings:\n",
      "[1] Standard Errors assume that the covariance matrix of the errors is correctly specified.\n"
     ]
    }
   ],
   "source": [
    "mod = smf.ols('y2 ~ X2', data=data2) #Establishing data for Regression Results\n",
    "res = mod.fit() #Fitting data\n",
    "print(res.summary())"
   ]
  },
  {
   "cell_type": "markdown",
   "metadata": {},
   "source": [
    "In the case of the second cluster (age of consumers = or > 40), *b* (intercept) has the standard error of 9.458 and a t-value of 9.396"
   ]
  },
  {
   "cell_type": "markdown",
   "metadata": {},
   "source": [
    "# *d)* Differences and Learnings"
   ]
  },
  {
   "cell_type": "markdown",
   "metadata": {},
   "source": [
    "## Differences"
   ]
  },
  {
   "cell_type": "markdown",
   "metadata": {},
   "source": [
    "1. The slope of the whole dataset is negative, but the slopes of the individual clusters is positive, indicating that putting both clusters on the same plot wouldn't be very beneficial for the company\n",
    "2. The line is best fitted when the age of consumers is below 40, indicating that these consumer's expenditures are most affected by their age. This is also reflected by the t-value of the cluster. For consumers above 40 years of age, the expenditure is barely explained by their age, also reflected by the considerably lower t-value. As is expected, the t-value and fit of the general dataset is in the middle"
   ]
  },
  {
   "cell_type": "markdown",
   "metadata": {},
   "source": [
    "## Learnings"
   ]
  },
  {
   "cell_type": "markdown",
   "metadata": {},
   "source": [
    "1. In general, expenditure on travel decreases as the age of the consumers increases. However, when dividing the dataset between consumers younger and older than 40, the expenditure increases as the age increases, especially in the case of consumers above 40 years of age.\n",
    "2. Age, even though a good predictor of expenditure, might not be the best explaining factor for the expenditure of clients on travel"
   ]
  }
 ],
 "metadata": {
  "kernelspec": {
   "display_name": "Python 3",
   "language": "python",
   "name": "python3"
  },
  "language_info": {
   "codemirror_mode": {
    "name": "ipython",
    "version": 3
   },
   "file_extension": ".py",
   "mimetype": "text/x-python",
   "name": "python",
   "nbconvert_exporter": "python",
   "pygments_lexer": "ipython3",
   "version": "3.8.3"
  }
 },
 "nbformat": 4,
 "nbformat_minor": 4
}
