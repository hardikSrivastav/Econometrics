{
 "cells": [
  {
   "cell_type": "code",
   "execution_count": 1,
   "metadata": {},
   "outputs": [],
   "source": [
    "import pandas as pd\n",
    "import numpy as np\n",
    "import statsmodels.api as sm\n",
    "import matplotlib.pyplot as plt"
   ]
  },
  {
   "cell_type": "code",
   "execution_count": 2,
   "metadata": {},
   "outputs": [],
   "source": [
    "data = pd.read_excel('Text Exer 2 Data.xls') #Loading up the Data\n",
    "data.index = data['Observation'] #Changing the index"
   ]
  },
  {
   "cell_type": "code",
   "execution_count": 3,
   "metadata": {},
   "outputs": [],
   "source": [
    "data = data.drop('Observation', axis = 1) #Dropping the 'observations' column"
   ]
  },
  {
   "cell_type": "code",
   "execution_count": 4,
   "metadata": {},
   "outputs": [],
   "source": [
    "X = data.iloc[:, 1:] #Declaring X\n",
    "y = pd.Series(data.iloc[:, 0]) #Declaring y"
   ]
  },
  {
   "cell_type": "code",
   "execution_count": 5,
   "metadata": {},
   "outputs": [],
   "source": [
    "import statsmodels.api as sm\n",
    "X = sm.add_constant(X) #Adding the constant column to the Independent Variables"
   ]
  },
  {
   "cell_type": "markdown",
   "metadata": {},
   "source": [
    "# *a-i)* Regression of FGPA on constant and SATV"
   ]
  },
  {
   "cell_type": "code",
   "execution_count": 6,
   "metadata": {},
   "outputs": [],
   "source": [
    "satv = X[['const', 'SATV']] #Declaring the SATV and Constant Data Set"
   ]
  },
  {
   "cell_type": "code",
   "execution_count": 7,
   "metadata": {},
   "outputs": [],
   "source": [
    "from sklearn.linear_model import LinearRegression\n",
    "regressor = LinearRegression() #Declaring the Regressor"
   ]
  },
  {
   "cell_type": "code",
   "execution_count": 8,
   "metadata": {},
   "outputs": [
    {
     "data": {
      "text/plain": [
       "LinearRegression()"
      ]
     },
     "execution_count": 8,
     "metadata": {},
     "output_type": "execute_result"
    }
   ],
   "source": [
    "regressor.fit(satv, y) #Fitting the X and y variables "
   ]
  },
  {
   "cell_type": "code",
   "execution_count": 9,
   "metadata": {},
   "outputs": [],
   "source": [
    "df1 = pd.merge(y, satv, on = y.index) #Creating a single dataset for case-specific X and y data"
   ]
  },
  {
   "cell_type": "code",
   "execution_count": 10,
   "metadata": {},
   "outputs": [
    {
     "data": {
      "text/html": [
       "<table class=\"simpletable\">\n",
       "<caption>OLS Regression Results</caption>\n",
       "<tr>\n",
       "  <th>Dep. Variable:</th>          <td>FGPA</td>       <th>  R-squared:         </th> <td>   0.008</td>\n",
       "</tr>\n",
       "<tr>\n",
       "  <th>Model:</th>                   <td>OLS</td>       <th>  Adj. R-squared:    </th> <td>   0.007</td>\n",
       "</tr>\n",
       "<tr>\n",
       "  <th>Method:</th>             <td>Least Squares</td>  <th>  F-statistic:       </th> <td>   5.201</td>\n",
       "</tr>\n",
       "<tr>\n",
       "  <th>Date:</th>             <td>Sun, 24 Oct 2021</td> <th>  Prob (F-statistic):</th>  <td>0.0229</td> \n",
       "</tr>\n",
       "<tr>\n",
       "  <th>Time:</th>                 <td>10:20:56</td>     <th>  Log-Likelihood:    </th> <td> -388.44</td>\n",
       "</tr>\n",
       "<tr>\n",
       "  <th>No. Observations:</th>      <td>   609</td>      <th>  AIC:               </th> <td>   780.9</td>\n",
       "</tr>\n",
       "<tr>\n",
       "  <th>Df Residuals:</th>          <td>   607</td>      <th>  BIC:               </th> <td>   789.7</td>\n",
       "</tr>\n",
       "<tr>\n",
       "  <th>Df Model:</th>              <td>     1</td>      <th>                     </th>     <td> </td>   \n",
       "</tr>\n",
       "<tr>\n",
       "  <th>Covariance Type:</th>      <td>nonrobust</td>    <th>                     </th>     <td> </td>   \n",
       "</tr>\n",
       "</table>\n",
       "<table class=\"simpletable\">\n",
       "<tr>\n",
       "      <td></td>         <th>coef</th>     <th>std err</th>      <th>t</th>      <th>P>|t|</th>  <th>[0.025</th>    <th>0.975]</th>  \n",
       "</tr>\n",
       "<tr>\n",
       "  <th>Intercept</th> <td>    1.2209</td> <td>    0.078</td> <td>   15.747</td> <td> 0.000</td> <td>    1.069</td> <td>    1.373</td>\n",
       "</tr>\n",
       "<tr>\n",
       "  <th>const</th>     <td>    1.2209</td> <td>    0.078</td> <td>   15.747</td> <td> 0.000</td> <td>    1.069</td> <td>    1.373</td>\n",
       "</tr>\n",
       "<tr>\n",
       "  <th>SATV</th>      <td>    0.0631</td> <td>    0.028</td> <td>    2.280</td> <td> 0.023</td> <td>    0.009</td> <td>    0.117</td>\n",
       "</tr>\n",
       "</table>\n",
       "<table class=\"simpletable\">\n",
       "<tr>\n",
       "  <th>Omnibus:</th>       <td>11.335</td> <th>  Durbin-Watson:     </th> <td>   1.949</td>\n",
       "</tr>\n",
       "<tr>\n",
       "  <th>Prob(Omnibus):</th> <td> 0.003</td> <th>  Jarque-Bera (JB):  </th> <td>   7.694</td>\n",
       "</tr>\n",
       "<tr>\n",
       "  <th>Skew:</th>          <td> 0.138</td> <th>  Prob(JB):          </th> <td>  0.0213</td>\n",
       "</tr>\n",
       "<tr>\n",
       "  <th>Kurtosis:</th>      <td> 2.524</td> <th>  Cond. No.          </th> <td>7.63e+16</td>\n",
       "</tr>\n",
       "</table><br/><br/>Warnings:<br/>[1] Standard Errors assume that the covariance matrix of the errors is correctly specified.<br/>[2] The smallest eigenvalue is 3.49e-30. This might indicate that there are<br/>strong multicollinearity problems or that the design matrix is singular."
      ],
      "text/plain": [
       "<class 'statsmodels.iolib.summary.Summary'>\n",
       "\"\"\"\n",
       "                            OLS Regression Results                            \n",
       "==============================================================================\n",
       "Dep. Variable:                   FGPA   R-squared:                       0.008\n",
       "Model:                            OLS   Adj. R-squared:                  0.007\n",
       "Method:                 Least Squares   F-statistic:                     5.201\n",
       "Date:                Sun, 24 Oct 2021   Prob (F-statistic):             0.0229\n",
       "Time:                        10:20:56   Log-Likelihood:                -388.44\n",
       "No. Observations:                 609   AIC:                             780.9\n",
       "Df Residuals:                     607   BIC:                             789.7\n",
       "Df Model:                           1                                         \n",
       "Covariance Type:            nonrobust                                         \n",
       "==============================================================================\n",
       "                 coef    std err          t      P>|t|      [0.025      0.975]\n",
       "------------------------------------------------------------------------------\n",
       "Intercept      1.2209      0.078     15.747      0.000       1.069       1.373\n",
       "const          1.2209      0.078     15.747      0.000       1.069       1.373\n",
       "SATV           0.0631      0.028      2.280      0.023       0.009       0.117\n",
       "==============================================================================\n",
       "Omnibus:                       11.335   Durbin-Watson:                   1.949\n",
       "Prob(Omnibus):                  0.003   Jarque-Bera (JB):                7.694\n",
       "Skew:                           0.138   Prob(JB):                       0.0213\n",
       "Kurtosis:                       2.524   Cond. No.                     7.63e+16\n",
       "==============================================================================\n",
       "\n",
       "Warnings:\n",
       "[1] Standard Errors assume that the covariance matrix of the errors is correctly specified.\n",
       "[2] The smallest eigenvalue is 3.49e-30. This might indicate that there are\n",
       "strong multicollinearity problems or that the design matrix is singular.\n",
       "\"\"\""
      ]
     },
     "execution_count": 10,
     "metadata": {},
     "output_type": "execute_result"
    }
   ],
   "source": [
    "import statsmodels.formula.api as smf\n",
    "mod1 = smf.ols('FGPA ~ const + SATV', data = df1) #Establishing data for regression summary\n",
    "res = mod1.fit() #Fitting data for the regression summary\n",
    "res.summary()"
   ]
  },
  {
   "cell_type": "markdown",
   "metadata": {},
   "source": [
    "# *a-ii)* Effect of 1 point increase in SATV on FGPA"
   ]
  },
  {
   "cell_type": "markdown",
   "metadata": {},
   "source": [
    "Since the slope of the line tells us the effect of a point's increase in SATV on FGPA, we can say that the FGPA will increase by 0.063 if the score on the SATV increases by 1"
   ]
  },
  {
   "cell_type": "markdown",
   "metadata": {},
   "source": [
    "# *b)* a-i and a-ii with Constant, SATV, SATM, and Gender"
   ]
  },
  {
   "cell_type": "markdown",
   "metadata": {},
   "source": [
    "## Regression"
   ]
  },
  {
   "cell_type": "code",
   "execution_count": 11,
   "metadata": {},
   "outputs": [
    {
     "data": {
      "text/plain": [
       "LinearRegression()"
      ]
     },
     "execution_count": 11,
     "metadata": {},
     "output_type": "execute_result"
    }
   ],
   "source": [
    "regressor.fit(X, y) #Fitting the data in the regressor"
   ]
  },
  {
   "cell_type": "code",
   "execution_count": 12,
   "metadata": {},
   "outputs": [],
   "source": [
    "df2 = pd.merge(X, y, on = X.index) #Merging the X and y data in a single dataset\n",
    "df2 = df2.drop('key_0', axis = 1) #Dropping the unncessary key"
   ]
  },
  {
   "cell_type": "code",
   "execution_count": 13,
   "metadata": {},
   "outputs": [
    {
     "data": {
      "text/html": [
       "<table class=\"simpletable\">\n",
       "<caption>OLS Regression Results</caption>\n",
       "<tr>\n",
       "  <th>Dep. Variable:</th>          <td>FGPA</td>       <th>  R-squared:         </th> <td>   0.083</td>\n",
       "</tr>\n",
       "<tr>\n",
       "  <th>Model:</th>                   <td>OLS</td>       <th>  Adj. R-squared:    </th> <td>   0.078</td>\n",
       "</tr>\n",
       "<tr>\n",
       "  <th>Method:</th>             <td>Least Squares</td>  <th>  F-statistic:       </th> <td>   18.24</td>\n",
       "</tr>\n",
       "<tr>\n",
       "  <th>Date:</th>             <td>Sun, 24 Oct 2021</td> <th>  Prob (F-statistic):</th> <td>2.41e-11</td>\n",
       "</tr>\n",
       "<tr>\n",
       "  <th>Time:</th>                 <td>10:20:56</td>     <th>  Log-Likelihood:    </th> <td> -364.67</td>\n",
       "</tr>\n",
       "<tr>\n",
       "  <th>No. Observations:</th>      <td>   609</td>      <th>  AIC:               </th> <td>   737.3</td>\n",
       "</tr>\n",
       "<tr>\n",
       "  <th>Df Residuals:</th>          <td>   605</td>      <th>  BIC:               </th> <td>   755.0</td>\n",
       "</tr>\n",
       "<tr>\n",
       "  <th>Df Model:</th>              <td>     3</td>      <th>                     </th>     <td> </td>   \n",
       "</tr>\n",
       "<tr>\n",
       "  <th>Covariance Type:</th>      <td>nonrobust</td>    <th>                     </th>     <td> </td>   \n",
       "</tr>\n",
       "</table>\n",
       "<table class=\"simpletable\">\n",
       "<tr>\n",
       "      <td></td>         <th>coef</th>     <th>std err</th>      <th>t</th>      <th>P>|t|</th>  <th>[0.025</th>    <th>0.975]</th>  \n",
       "</tr>\n",
       "<tr>\n",
       "  <th>Intercept</th> <td>    0.7785</td> <td>    0.108</td> <td>    7.205</td> <td> 0.000</td> <td>    0.566</td> <td>    0.991</td>\n",
       "</tr>\n",
       "<tr>\n",
       "  <th>const</th>     <td>    0.7785</td> <td>    0.108</td> <td>    7.205</td> <td> 0.000</td> <td>    0.566</td> <td>    0.991</td>\n",
       "</tr>\n",
       "<tr>\n",
       "  <th>SATM</th>      <td>    0.1727</td> <td>    0.032</td> <td>    5.410</td> <td> 0.000</td> <td>    0.110</td> <td>    0.235</td>\n",
       "</tr>\n",
       "<tr>\n",
       "  <th>SATV</th>      <td>    0.0142</td> <td>    0.028</td> <td>    0.507</td> <td> 0.612</td> <td>   -0.041</td> <td>    0.069</td>\n",
       "</tr>\n",
       "<tr>\n",
       "  <th>FEM</th>       <td>    0.2003</td> <td>    0.037</td> <td>    5.358</td> <td> 0.000</td> <td>    0.127</td> <td>    0.274</td>\n",
       "</tr>\n",
       "</table>\n",
       "<table class=\"simpletable\">\n",
       "<tr>\n",
       "  <th>Omnibus:</th>       <td> 7.757</td> <th>  Durbin-Watson:     </th> <td>   1.912</td>\n",
       "</tr>\n",
       "<tr>\n",
       "  <th>Prob(Omnibus):</th> <td> 0.021</td> <th>  Jarque-Bera (JB):  </th> <td>   5.727</td>\n",
       "</tr>\n",
       "<tr>\n",
       "  <th>Skew:</th>          <td> 0.118</td> <th>  Prob(JB):          </th> <td>  0.0571</td>\n",
       "</tr>\n",
       "<tr>\n",
       "  <th>Kurtosis:</th>      <td> 2.588</td> <th>  Cond. No.          </th> <td>9.12e+16</td>\n",
       "</tr>\n",
       "</table><br/><br/>Warnings:<br/>[1] Standard Errors assume that the covariance matrix of the errors is correctly specified.<br/>[2] The smallest eigenvalue is 5.31e-30. This might indicate that there are<br/>strong multicollinearity problems or that the design matrix is singular."
      ],
      "text/plain": [
       "<class 'statsmodels.iolib.summary.Summary'>\n",
       "\"\"\"\n",
       "                            OLS Regression Results                            \n",
       "==============================================================================\n",
       "Dep. Variable:                   FGPA   R-squared:                       0.083\n",
       "Model:                            OLS   Adj. R-squared:                  0.078\n",
       "Method:                 Least Squares   F-statistic:                     18.24\n",
       "Date:                Sun, 24 Oct 2021   Prob (F-statistic):           2.41e-11\n",
       "Time:                        10:20:56   Log-Likelihood:                -364.67\n",
       "No. Observations:                 609   AIC:                             737.3\n",
       "Df Residuals:                     605   BIC:                             755.0\n",
       "Df Model:                           3                                         \n",
       "Covariance Type:            nonrobust                                         \n",
       "==============================================================================\n",
       "                 coef    std err          t      P>|t|      [0.025      0.975]\n",
       "------------------------------------------------------------------------------\n",
       "Intercept      0.7785      0.108      7.205      0.000       0.566       0.991\n",
       "const          0.7785      0.108      7.205      0.000       0.566       0.991\n",
       "SATM           0.1727      0.032      5.410      0.000       0.110       0.235\n",
       "SATV           0.0142      0.028      0.507      0.612      -0.041       0.069\n",
       "FEM            0.2003      0.037      5.358      0.000       0.127       0.274\n",
       "==============================================================================\n",
       "Omnibus:                        7.757   Durbin-Watson:                   1.912\n",
       "Prob(Omnibus):                  0.021   Jarque-Bera (JB):                5.727\n",
       "Skew:                           0.118   Prob(JB):                       0.0571\n",
       "Kurtosis:                       2.588   Cond. No.                     9.12e+16\n",
       "==============================================================================\n",
       "\n",
       "Warnings:\n",
       "[1] Standard Errors assume that the covariance matrix of the errors is correctly specified.\n",
       "[2] The smallest eigenvalue is 5.31e-30. This might indicate that there are\n",
       "strong multicollinearity problems or that the design matrix is singular.\n",
       "\"\"\""
      ]
     },
     "execution_count": 13,
     "metadata": {},
     "output_type": "execute_result"
    }
   ],
   "source": [
    "mod = smf.ols('FGPA ~ const + SATM + SATV + FEM', data = df2) #Establishing data for regression summary\n",
    "res = mod.fit() #Fitting data for the regression summary\n",
    "res.summary()"
   ]
  },
  {
   "cell_type": "markdown",
   "metadata": {},
   "source": [
    "## Effect of 1 point increase"
   ]
  },
  {
   "cell_type": "markdown",
   "metadata": {},
   "source": [
    "If there is a one point increase in the constant, the FGPA would increase by 0.779. If there's a one point increase in the SATM, the FGPA would increase by 0.173. If there's a one point increase in the SATV, the FGPA would increase by 0.014. If there's a one point increase in the Gender, i.e. the person is a female, then the FGPA would increase by 0.200."
   ]
  },
  {
   "cell_type": "markdown",
   "metadata": {},
   "source": [
    "# *c)* Correlation matrix"
   ]
  },
  {
   "cell_type": "code",
   "execution_count": 14,
   "metadata": {},
   "outputs": [
    {
     "name": "stdout",
     "output_type": "stream",
     "text": [
      "          FGPA      SATM      SATV       FEM\n",
      "FGPA  1.000000  0.195040  0.092167  0.176491\n",
      "SATM  0.195040  1.000000  0.287801 -0.162680\n",
      "SATV  0.092167  0.287801  1.000000  0.033577\n",
      "FEM   0.176491 -0.162680  0.033577  1.000000\n"
     ]
    }
   ],
   "source": [
    "import pandas as pd\n",
    "\n",
    "corrMatrix = data.corr() #Creating the correlation matrix\n",
    "print (corrMatrix)"
   ]
  },
  {
   "cell_type": "markdown",
   "metadata": {},
   "source": [
    "# *d-i)* F-Test on the significance of the effect of SATM on FGPA"
   ]
  },
  {
   "cell_type": "code",
   "execution_count": 15,
   "metadata": {
    "scrolled": true
   },
   "outputs": [
    {
     "name": "stdout",
     "output_type": "stream",
     "text": [
      "0.06308584537784592 2.441732463077964\n"
     ]
    }
   ],
   "source": [
    "a, b = np.polyfit(X['SATV'].values, y, 1) #Assigning a and b\n",
    "print(a, b) #The values are same as obtained by the previous method"
   ]
  },
  {
   "cell_type": "code",
   "execution_count": 16,
   "metadata": {},
   "outputs": [],
   "source": [
    "def linefitline(X): #Defining the function for the prediction line\n",
    "    return a * X + b #Establishing the equation\n",
    "line1 = linefitline(X['SATV']) #Declaring a variable to contain the regression line with SATV as independent variable"
   ]
  },
  {
   "cell_type": "code",
   "execution_count": 17,
   "metadata": {},
   "outputs": [],
   "source": [
    "y1 = pd.Series(y)"
   ]
  },
  {
   "cell_type": "code",
   "execution_count": 18,
   "metadata": {},
   "outputs": [],
   "source": [
    "differences_line1 = [] #Erstwhile empty list to contain squared residuals\n",
    "for i in range(len(line1)): #Loop to create squared residuals\n",
    "    differences_line1.append((y.values[i] - line1.values[i])**2) #Formula and values for the squared residuals"
   ]
  },
  {
   "cell_type": "code",
   "execution_count": 19,
   "metadata": {},
   "outputs": [],
   "source": [
    "RSS = sum(differences_line1) #Summing the Squared residuals"
   ]
  },
  {
   "cell_type": "code",
   "execution_count": 20,
   "metadata": {},
   "outputs": [],
   "source": [
    "mean = np.mean(y) #Finding mean of y"
   ]
  },
  {
   "cell_type": "code",
   "execution_count": 21,
   "metadata": {},
   "outputs": [],
   "source": [
    "differences_line2 = [] #Erstwhile empty list to contain squared difference of y_i and y_bar (mean)\n",
    "for i in range(len(y)): #Loop to create squared difference of y_i and y_bar\n",
    "    differences_line2.append((y.values[i] - mean)**2) #Formula and values for the squared difference of y_i and y_bar"
   ]
  },
  {
   "cell_type": "code",
   "execution_count": 22,
   "metadata": {},
   "outputs": [],
   "source": [
    "TSS = sum(differences_line2) #Summing the squared difference of y_i and y_bar to get Total Sum of Squares"
   ]
  },
  {
   "cell_type": "code",
   "execution_count": 23,
   "metadata": {},
   "outputs": [],
   "source": [
    "R_squared = 1 - round(RSS, 6)/round(TSS, 6) #Formula and values for R-Squared"
   ]
  },
  {
   "cell_type": "code",
   "execution_count": 24,
   "metadata": {},
   "outputs": [],
   "source": [
    "F = (R_squared / (1 - R_squared)) * 608/1 #Formula and values for the F-stat"
   ]
  },
  {
   "cell_type": "code",
   "execution_count": 25,
   "metadata": {},
   "outputs": [
    {
     "data": {
      "text/plain": [
       "5.209075657510555"
      ]
     },
     "execution_count": 25,
     "metadata": {},
     "output_type": "execute_result"
    }
   ],
   "source": [
    "F #Getting F"
   ]
  },
  {
   "cell_type": "code",
   "execution_count": 26,
   "metadata": {},
   "outputs": [],
   "source": [
    "F = round(F, 1) #Rounding F to 1 decimal place"
   ]
  },
  {
   "cell_type": "markdown",
   "metadata": {},
   "source": [
    "# *d-ii)* Testing if F = t^2"
   ]
  },
  {
   "cell_type": "code",
   "execution_count": 27,
   "metadata": {},
   "outputs": [],
   "source": [
    "t = 2.280 #Value of t from the first regression summary\n",
    "\n",
    "t_2 = t ** 2 #Squaring t to get t^2"
   ]
  },
  {
   "cell_type": "code",
   "execution_count": 28,
   "metadata": {},
   "outputs": [],
   "source": [
    "t_2 = round(t_2, 1) #Rounding t^2 to 1 decimal place"
   ]
  },
  {
   "cell_type": "code",
   "execution_count": 29,
   "metadata": {},
   "outputs": [
    {
     "data": {
      "text/plain": [
       "5.2"
      ]
     },
     "execution_count": 29,
     "metadata": {},
     "output_type": "execute_result"
    }
   ],
   "source": [
    "t_2 #Getting value of t^2"
   ]
  },
  {
   "cell_type": "code",
   "execution_count": 30,
   "metadata": {},
   "outputs": [
    {
     "data": {
      "text/plain": [
       "5.2"
      ]
     },
     "execution_count": 30,
     "metadata": {},
     "output_type": "execute_result"
    }
   ],
   "source": [
    "F #Getting value of F"
   ]
  },
  {
   "cell_type": "markdown",
   "metadata": {},
   "source": [
    "F = t^2"
   ]
  }
 ],
 "metadata": {
  "kernelspec": {
   "display_name": "Python 3",
   "language": "python",
   "name": "python3"
  },
  "language_info": {
   "codemirror_mode": {
    "name": "ipython",
    "version": 3
   },
   "file_extension": ".py",
   "mimetype": "text/x-python",
   "name": "python",
   "nbconvert_exporter": "python",
   "pygments_lexer": "ipython3",
   "version": "3.8.3"
  }
 },
 "nbformat": 4,
 "nbformat_minor": 4
}
